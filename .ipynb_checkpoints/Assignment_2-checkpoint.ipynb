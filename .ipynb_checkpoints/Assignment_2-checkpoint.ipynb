{
 "cells": [
  {
   "cell_type": "markdown",
   "id": "7b6e323f",
   "metadata": {},
   "source": [
    "Justin Mar"
   ]
  },
  {
   "cell_type": "code",
   "execution_count": 1,
   "id": "1443cdff",
   "metadata": {},
   "outputs": [],
   "source": [
    "import re\n"
   ]
  },
  {
   "cell_type": "markdown",
   "id": "9aa8d15e",
   "metadata": {},
   "source": [
    "# Assignment 2: Analyzing large datasets with Spark.\n",
    "\n",
    "\n",
    "For this assignment, you will need to make sure you're running from a PySpark docker environment I introduced in class. You can start the docker pySpark docker environment using the following command:\n",
    "\n",
    "```\n",
    "docker run --rm -p 4040:4040 -p 8888:8888 -v $(pwd):/home/jovyan/work jupyter/all-spark-notebook\n",
    "```\n",
    "\n",
    "Make sure you run the command from the directory containing this jupyter notebook and your data folder.\n",
    "\n",
    "\n",
    "</b>\n",
    "# WARNING: For some reason, ipynbb document didn't always sync properly when I was pushing to github. As such, please push often and make sure your incremental changes appear on GitHub.\n",
    "</b>"
   ]
  },
  {
   "cell_type": "markdown",
   "id": "66b0d3e6",
   "metadata": {},
   "source": [
    "### Part 1\n",
    "\n",
    "The first part will use Spark to analyze the following books, which I have downloaded for you to use from Project Gutenberg. The files are saved to the data folder.\n",
    "\n",
    "| File name | Book Title|\n",
    "|:---------:|:----------|\n",
    "|43.txt | The Strange Case of Dr. Jekyll and Mr. Hyde by Robert Louis Stevenson|\n",
    "|84.txt | Frankenstein; Or, The Modern Prometheus by Mary Wollstonecraft Shelley |\n",
    "|398.txt  | The First Book of Adam and Eve by Rutherford Hayes Platt|\n",
    "|3296.txt | The Confessions of St. Augustine by Bishop of Hippo Saint Augustine|\n",
    "\n",
    "The objective is to explore whether we can detect similarity between books within the same topic using word-based similarity. \n",
    "\n",
    "The task of identifying similar texts in Natural Language Processing is crucial. A naive method for determining whether two documents are similar is to treat them as collections of words (bag of words) and use the number of words they share as a proxy for their similarity. It makes sense that two books with religion as the topic (e.g.  `398.txt` and `3296.txt`) would have more words in common than a book that discusses religion and a book that discusses science fiction (e.g. books `84.txt` and `398.txt`). \n",
    "\n",
    "As mentioned above, we will be using Spark to analyze the data. Although Spark is not needed for such a small example, the platform would be ideal for analyzing very large collections of documents, like those often analyzed by large corporations\n",
    "\n",
    "This part of the assignment will rely exclusively on RDDs."
   ]
  },
  {
   "cell_type": "markdown",
   "id": "87a15530",
   "metadata": {},
   "source": [
    "### Q1. \n",
    "Start by importing Spark and making sure your environment is set up properly for the assignment.\n",
    "\n",
    "Import the spark context necessary to load a document as an RDD; ignore any error messages"
   ]
  },
  {
   "cell_type": "code",
   "execution_count": 2,
   "id": "e80df4d4",
   "metadata": {},
   "outputs": [
    {
     "name": "stderr",
     "output_type": "stream",
     "text": [
      "WARNING: An illegal reflective access operation has occurred\n",
      "WARNING: Illegal reflective access by org.apache.spark.unsafe.Platform (file:/usr/local/spark-3.2.0-bin-hadoop3.2/jars/spark-unsafe_2.12-3.2.0.jar) to constructor java.nio.DirectByteBuffer(long,int)\n",
      "WARNING: Please consider reporting this to the maintainers of org.apache.spark.unsafe.Platform\n",
      "WARNING: Use --illegal-access=warn to enable warnings of further illegal reflective access operations\n",
      "WARNING: All illegal access operations will be denied in a future release\n",
      "Using Spark's default log4j profile: org/apache/spark/log4j-defaults.properties\n",
      "Setting default log level to \"WARN\".\n",
      "To adjust logging level use sc.setLogLevel(newLevel). For SparkR, use setLogLevel(newLevel).\n",
      "21/11/09 02:36:23 WARN NativeCodeLoader: Unable to load native-hadoop library for your platform... using builtin-java classes where applicable\n"
     ]
    }
   ],
   "source": [
    "### Write your code here\n",
    "from pyspark import SparkContext\n",
    "# sc.stop()\n",
    "sc = SparkContext()"
   ]
  },
  {
   "cell_type": "markdown",
   "id": "336d5c9d",
   "metadata": {},
   "source": [
    "### Q2 \n",
    "\n",
    "Read in the file `43.txt` as a spark RDD and save it to a variable called `book_43`\n",
    " * make sure `book_43` is of type MapPartitionsRDD, i.e.,\n",
    "   * str(type(book_43)) == \"<class 'pyspark.rdd.RDD'>\" should return True "
   ]
  },
  {
   "cell_type": "code",
   "execution_count": 3,
   "id": "3d4164f5",
   "metadata": {},
   "outputs": [
    {
     "data": {
      "text/plain": [
       "True"
      ]
     },
     "execution_count": 3,
     "metadata": {},
     "output_type": "execute_result"
    }
   ],
   "source": [
    "### Write your code here\n",
    "book_43 = sc.textFile('data/43.txt');\n",
    "str(type(book_43)) == \"<class 'pyspark.rdd.RDD'>\""
   ]
  },
  {
   "cell_type": "markdown",
   "id": "0b8c051e",
   "metadata": {},
   "source": [
    "### Q3\n",
    "\n",
    "How many lines does `book_43` contain?\n",
    "* You can only use operations or actions on RDDs to answer the question. \n",
    "  * Code that uses methods such as `some_rdd.X().Y().Z()...` is allowed\n",
    "  * Code that uses functions such as `some_func(...)` is not allowed"
   ]
  },
  {
   "cell_type": "code",
   "execution_count": 4,
   "id": "b3c5a06e",
   "metadata": {},
   "outputs": [
    {
     "data": {
      "text/plain": [
       "2935"
      ]
     },
     "execution_count": 4,
     "metadata": {},
     "output_type": "execute_result"
    }
   ],
   "source": [
    "### Write your code here\n",
    "book_43.count()"
   ]
  },
  {
   "cell_type": "markdown",
   "id": "bca2bc6d",
   "metadata": {},
   "source": [
    "### Q4 \n",
    "\n",
    "Prior to analyzing the words contained in this book, we need to first remove the occurrences of non-alphabetical characters and numbers from the text. You can use the following function, which takes a line as input, removes digits and non-word characters, and splits it into a collection of words. \n",
    "\n",
    "```python\n",
    "def clean_split_line(line):\n",
    "    a = re.sub('\\d+', '', line)\n",
    "    b = re.sub('[\\W]+', ' ', a)\n",
    "    return b.upper().split()\n",
    "```\n",
    "\n",
    "Use the fucntion above on the variable (test_line) to see what it returns.\n",
    "```python\n",
    "test_line = \"This is an example of that contains 234 and a dash-containing number\"\n",
    "```"
   ]
  },
  {
   "cell_type": "code",
   "execution_count": 5,
   "id": "55ce2754",
   "metadata": {},
   "outputs": [
    {
     "data": {
      "text/plain": [
       "['THIS',\n",
       " 'IS',\n",
       " 'AN',\n",
       " 'EXAMPLE',\n",
       " 'OF',\n",
       " 'THAT',\n",
       " 'CONTAINS',\n",
       " 'AND',\n",
       " 'A',\n",
       " 'DASH',\n",
       " 'CONTAINING',\n",
       " 'NUMBER']"
      ]
     },
     "execution_count": 5,
     "metadata": {},
     "output_type": "execute_result"
    }
   ],
   "source": [
    "### Write your code here\n",
    "def clean_split_line(line):\n",
    "    a = re.sub('\\d+', '', line)\n",
    "    b = re.sub('[\\W]+', ' ', a)\n",
    "    return b.upper().split()\n",
    "\n",
    "test_line = \"This is an example of that contains 234 and a dash-containing number\"\n",
    "\n",
    "clean_split_line(test_line)"
   ]
  },
  {
   "cell_type": "markdown",
   "id": "b5e951e5",
   "metadata": {},
   "source": [
    "### Q5\n",
    "\n",
    "How many words does `book_43` contain? To answer this question, you may find it useful to apply the function in a spark-fashion. \n",
    "* You can only use operations or actions on RDDs to answer the question. \n",
    "  * Code that uses methods such as `some_rdd.X().Y().Z()...` is allowed\n",
    "  * Code that uses functions such as `some_func(...)` is not allowed\n"
   ]
  },
  {
   "cell_type": "code",
   "execution_count": 6,
   "id": "99c1b93f",
   "metadata": {},
   "outputs": [
    {
     "data": {
      "text/plain": [
       "29116"
      ]
     },
     "execution_count": 6,
     "metadata": {},
     "output_type": "execute_result"
    }
   ],
   "source": [
    "### Write your code here\n",
    "book_43.flatMap(clean_split_line).count()"
   ]
  },
  {
   "cell_type": "markdown",
   "id": "30d62952",
   "metadata": {},
   "source": [
    "### Q6\n",
    "\n",
    "How many of the words in book_43 are unique? Given that words can appear in lower, upper or mixed case (ex. The, THE, the), make sure you convert the words into lower case before counting them.\n"
   ]
  },
  {
   "cell_type": "code",
   "execution_count": 7,
   "id": "07785c77",
   "metadata": {},
   "outputs": [
    {
     "data": {
      "text/plain": [
       "4296"
      ]
     },
     "execution_count": 7,
     "metadata": {},
     "output_type": "execute_result"
    }
   ],
   "source": [
    "### Write your code here\n",
    "book_43.flatMap(clean_split_line).map(lambda x: x.lower()).distinct().count()"
   ]
  },
  {
   "cell_type": "markdown",
   "id": "91b13b79",
   "metadata": {},
   "source": [
    "### Q7\n",
    "\n",
    "* Generate an `RDD` that contains the frequency of each word in `book_43`. Call the variable `book_43_counts`. Each item in the `RDD` should be a tuple with the word as the first element of the tuple and the count as the second item of the tuple. The collection should look like the following:\n",
    "\n",
    "[('project', 88), (\"the\", 1807), ... ]\n",
    "\n",
    "* Such a collection may contain a large number of words and it would be imprudent to transfer all the words onto the same machine to display it. Instead, to explore the content of such a collection, display only the first element in your list. \n",
    "\n",
    "* Given the random nature of this operation, the first element element displayed may be different. The first entry for me was:\n",
    "```\n",
    "[('project', 88)]\n",
    "```\n",
    "\n",
    "* You can only use operations or actions to answer the question. \n",
    "* Code that uses methods such as `some_rdd.X().Y().Z()...` is allowed\n",
    "* Code that uses functions such as `some_func(...)` is not allowed\n"
   ]
  },
  {
   "cell_type": "code",
   "execution_count": 8,
   "id": "42729b95",
   "metadata": {},
   "outputs": [
    {
     "data": {
      "text/plain": [
       "[('project', 88)]"
      ]
     },
     "execution_count": 8,
     "metadata": {},
     "output_type": "execute_result"
    }
   ],
   "source": [
    "### Write your code here\n",
    "book_43_counts = book_43.flatMap(clean_split_line).map(lambda x: x.lower()).map(lambda x: (x,1)).reduceByKey(lambda x,y: x+y)\n",
    "\n",
    "book_43_counts.take(1)"
   ]
  },
  {
   "cell_type": "markdown",
   "id": "1ee4534c",
   "metadata": {},
   "source": [
    "### Q8\n",
    "\n",
    "Sort `book_43_counts` and print the 20 most frequent words in book_43. \n",
    "  * Hint: function `sortByKey` sorts a collection of tuples on the first element element of the list. You can easily change the order of the items in each element and use `sortByKey` to sort on the second item of each element in `book_43_counts`\n",
    "  * You can only use operations or actions to answer the question. \n",
    "  * Code that uses methods such as `some_rdd.X().Y().Z()...` is allowed\n",
    "  * Code that uses functions such as `some_func(...)` is not allowed"
   ]
  },
  {
   "cell_type": "code",
   "execution_count": 9,
   "id": "d51b8ea9",
   "metadata": {},
   "outputs": [
    {
     "data": {
      "text/plain": [
       "[(1807, 'the'),\n",
       " (1068, 'of'),\n",
       " (1043, 'and'),\n",
       " (726, 'to'),\n",
       " (686, 'a'),\n",
       " (646, 'i'),\n",
       " (485, 'in'),\n",
       " (471, 'was'),\n",
       " (392, 'that'),\n",
       " (384, 'he'),\n",
       " (378, 'it'),\n",
       " (312, 'you'),\n",
       " (308, 'my'),\n",
       " (301, 'with'),\n",
       " (285, 'his'),\n",
       " (244, 'had'),\n",
       " (203, 'as'),\n",
       " (202, 'for'),\n",
       " (195, 'this'),\n",
       " (193, 'but')]"
      ]
     },
     "execution_count": 9,
     "metadata": {},
     "output_type": "execute_result"
    }
   ],
   "source": [
    "### Write your code here\n",
    "book_43_counts.map(lambda x: (x[1], x[0])).sortByKey(ascending = False).take(20)"
   ]
  },
  {
   "cell_type": "markdown",
   "id": "13420b09",
   "metadata": {},
   "source": [
    "### Q9\n",
    "\n",
    "You must have noted that the most frequent words in `book_43_counts` include stop words such as `of`, `the`, `and`, etc.\n",
    "\n",
    "It would be inefficient to compare documents based on whether or not they contain stop words; those are common to all documents. As such, it's common to remove such stop words. The librarary `sklearn.feature_extraction` provides access to a collection of English stop words, which can be loaded using the following snippet:\n",
    "\n",
    "```\n",
    "from sklearn.feature_extraction import stop_words\n",
    "stop_words.ENGLISH_STOP_WORDS\n",
    "```\n",
    "\n",
    "* Explore ENGLISH_STOP_WORDS (it's a frozen set data structure, i.e., a set that you cannot modify) by printing any 10 words from it. \n",
    " * Hint: convert the frozen set to something you can subscript\n"
   ]
  },
  {
   "cell_type": "code",
   "execution_count": 10,
   "id": "0e0ad996",
   "metadata": {},
   "outputs": [
    {
     "data": {
      "text/plain": [
       "['i',\n",
       " 'other',\n",
       " 'themselves',\n",
       " 'via',\n",
       " 'empty',\n",
       " 'she',\n",
       " 'over',\n",
       " 'now',\n",
       " 'nor',\n",
       " 'either']"
      ]
     },
     "execution_count": 10,
     "metadata": {},
     "output_type": "execute_result"
    }
   ],
   "source": [
    "### Write your code here\n",
    "from sklearn.feature_extraction import _stop_words\n",
    "_stop_words_set = (_stop_words.ENGLISH_STOP_WORDS)\n",
    "_stop_words_list = list(_stop_words_set)\n",
    "_stop_words_list[:10]"
   ]
  },
  {
   "cell_type": "markdown",
   "id": "625eb521",
   "metadata": {},
   "source": [
    "### Q10\n",
    "\n",
    "Filter out the words in `book_43_counts` by removing those that appear in the ENGLISH_STOP_WORDS.\n",
    "Save the results to a new variable called `book_43_counts_filtered`\n",
    "  * You can only use operarations or actions on RDDs to answer the question. \n",
    "  * Code that uses methods such as `some_rdd.X().Y().Z()...` is allowed\n",
    "  * Code that uses function such as `some_func(...)` is not allowed\n"
   ]
  },
  {
   "cell_type": "code",
   "execution_count": 11,
   "id": "5602b4ff",
   "metadata": {},
   "outputs": [],
   "source": [
    "### Write your code here\n",
    "book_43_counts_filtered = book_43_counts.filter(lambda w: w[0] not in _stop_words_set)"
   ]
  },
  {
   "cell_type": "markdown",
   "id": "3d0b3a80",
   "metadata": {},
   "source": [
    "### Q11\n",
    "\n",
    "* How many words are left in `book_43_counts_filtered` after removing the stop words"
   ]
  },
  {
   "cell_type": "code",
   "execution_count": 12,
   "id": "a5bdf083",
   "metadata": {},
   "outputs": [
    {
     "data": {
      "text/plain": [
       "4034"
      ]
     },
     "execution_count": 12,
     "metadata": {},
     "output_type": "execute_result"
    }
   ],
   "source": [
    "### Write your code here\n",
    "book_43_counts_filtered.count()"
   ]
  },
  {
   "cell_type": "markdown",
   "id": "23ffd755",
   "metadata": {},
   "source": [
    "### Q12 \n",
    "\n",
    "* Create a function called *process_RDD* that combines the relevant steps you proposed above to make it convenient to apply them to the remaining four books. Your function should accept an input text file path and:\n",
    " * Reads in the file as a textRDD\n",
    " * Cleans and splits the line using `clean_split_line`\n",
    " * Filters out the stop words\n",
    " * Returns a word count RDD where each item is a tuple of words and its count.\n",
    " \n"
   ]
  },
  {
   "cell_type": "code",
   "execution_count": 13,
   "id": "eff5d5e8",
   "metadata": {},
   "outputs": [],
   "source": [
    "### Write your code here\n",
    "def process_RDD(filePath):\n",
    "    textRDD = sc.textFile(filePath)\n",
    "    return textRDD.flatMap(clean_split_line).map(lambda x: x.lower()).map(lambda x: (x,1)).reduceByKey(lambda x,y: x+y).filter(lambda w: w[0] not in _stop_words_set)\n",
    "    "
   ]
  },
  {
   "cell_type": "markdown",
   "id": "ba59c9c5",
   "metadata": {},
   "source": [
    "### Q13 \n",
    "\n",
    "Apply the function `process_RDD` to `book_84`, `book_398` and `book_3296` and save the results to variables `book_84_counts_filtered`, `book_398_counts_filtered` and `book_3296_counts_filtered` respectively. How many distinct words does each book contain after filtering the stop words.\n"
   ]
  },
  {
   "cell_type": "code",
   "execution_count": 14,
   "id": "08a24f66",
   "metadata": {},
   "outputs": [
    {
     "data": {
      "text/plain": [
       "7016"
      ]
     },
     "execution_count": 14,
     "metadata": {},
     "output_type": "execute_result"
    }
   ],
   "source": [
    "### Write your code here\n",
    "book_84_counts_filtered = process_RDD('data/84.txt')\n",
    "book_84_counts_filtered.count()"
   ]
  },
  {
   "cell_type": "code",
   "execution_count": 15,
   "id": "21267fb2",
   "metadata": {},
   "outputs": [
    {
     "data": {
      "text/plain": [
       "2421"
      ]
     },
     "execution_count": 15,
     "metadata": {},
     "output_type": "execute_result"
    }
   ],
   "source": [
    "book_398_counts_filtered = process_RDD('data/398.txt')\n",
    "book_398_counts_filtered.count()"
   ]
  },
  {
   "cell_type": "code",
   "execution_count": 16,
   "id": "4839e1c2",
   "metadata": {},
   "outputs": [
    {
     "data": {
      "text/plain": [
       "7293"
      ]
     },
     "execution_count": 16,
     "metadata": {},
     "output_type": "execute_result"
    }
   ],
   "source": [
    "book_3296_counts_filtered = process_RDD('data/3296.txt')\n",
    "book_3296_counts_filtered.count()"
   ]
  },
  {
   "cell_type": "markdown",
   "id": "7fb9680f",
   "metadata": {},
   "source": [
    "### Q14 \n",
    "\n",
    "We discussed how to evaluate similarity between two texts using the number of words they share. We hypothesized that books that are similar should have more words in common than books that are dissimilar. If that holds, `book_398` and `book_3296`, which both pertain to religion, will have more words in common than, say, `book_84` and `book_398`. Test this hypothesis by writing code that compares and prints the number of words shared between `book_398` and `book_3296` and then between `book_84` and `book_398`.\n"
   ]
  },
  {
   "cell_type": "code",
   "execution_count": 17,
   "id": "ac6b73e0",
   "metadata": {},
   "outputs": [
    {
     "name": "stdout",
     "output_type": "stream",
     "text": [
      "books 398 and 3296 share 435 words\n",
      "books 84 and 398 share 414 words\n"
     ]
    }
   ],
   "source": [
    "### Write your code here\n",
    "print(f\"books 398 and 3296 share {book_398_counts_filtered.intersection(book_3296_counts_filtered).count()} words\")\n",
    "print(f\"books 84 and 398 share {book_84_counts_filtered.intersection(book_398_counts_filtered).count()} words\")\n"
   ]
  },
  {
   "cell_type": "markdown",
   "id": "cef9f326",
   "metadata": {},
   "source": [
    "### Q15\n",
    "\n",
    "* Based on the above, do you think counting the number of shared words is a good idea as a distance metric for evaluating topic similarity? Justify your answer?\n",
    "* Hint: What do *book_84* and *book_3296* have in common? "
   ]
  },
  {
   "cell_type": "code",
   "execution_count": 18,
   "id": "22aa7ca4",
   "metadata": {},
   "outputs": [
    {
     "data": {
      "text/plain": [
       "[('project', 88),\n",
       " ('online', 4),\n",
       " ('www', 10),\n",
       " ('fear', 40),\n",
       " ('fix', 4),\n",
       " ('equally', 4),\n",
       " ('pleasurable', 2),\n",
       " ('large', 8),\n",
       " ('useful', 4),\n",
       " ('hungry', 2),\n",
       " ('interpreted', 2),\n",
       " ('redeem', 2),\n",
       " ('soaring', 2),\n",
       " ('rush', 2),\n",
       " ('unwilling', 4),\n",
       " ('influence', 4),\n",
       " ('studying', 2),\n",
       " ('imbibed', 2),\n",
       " ('excellence', 2),\n",
       " ('d', 4),\n",
       " ('field', 6),\n",
       " ('afternoon', 2),\n",
       " ('bade', 4),\n",
       " ('conjecture', 4),\n",
       " ('indignant', 2),\n",
       " ('aged', 4),\n",
       " ('fuel', 2),\n",
       " ('sadness', 4),\n",
       " ('abject', 2),\n",
       " ('lofty', 4),\n",
       " ('enjoying', 2),\n",
       " ('files', 2),\n",
       " ('formats', 2),\n",
       " ('redistribution', 2),\n",
       " ('mission', 4),\n",
       " ('promoting', 2),\n",
       " ('distribution', 6),\n",
       " ('collection', 4),\n",
       " ('references', 2),\n",
       " ('holder', 4),\n",
       " ('fees', 4),\n",
       " ('providing', 4),\n",
       " ('vanilla', 2),\n",
       " ('breach', 2),\n",
       " ('lieu', 2),\n",
       " ('electronically', 2),\n",
       " ('computers', 2),\n",
       " ('particular', 2),\n",
       " ('release', 3),\n",
       " ('recently', 1),\n",
       " ('satiate', 1),\n",
       " ('reach', 5),\n",
       " ('passionately', 1),\n",
       " ('voluntarily', 1),\n",
       " ('encouraging', 1),\n",
       " ('fluctuate', 1),\n",
       " ('glowing', 1),\n",
       " ('faults', 1),\n",
       " ('greater', 25),\n",
       " ('exclaim', 1),\n",
       " ('crown', 3),\n",
       " ('preceded', 3),\n",
       " ('utterance', 3),\n",
       " ('faulty', 1),\n",
       " ('subduing', 1),\n",
       " ('tamer', 1),\n",
       " ('angel', 9),\n",
       " ('foster', 1),\n",
       " ('fellows', 3),\n",
       " ('demonstrate', 1),\n",
       " ('unveiled', 1),\n",
       " ('calmly', 1),\n",
       " ('idleness', 3),\n",
       " ('omnipotent', 3),\n",
       " ('realities', 1),\n",
       " ('panegyric', 1),\n",
       " ('mimic', 1),\n",
       " ('indebted', 1),\n",
       " ('promising', 1),\n",
       " ('brain', 1),\n",
       " ('examining', 3),\n",
       " ('withered', 1),\n",
       " ('infuse', 1),\n",
       " ('indicated', 1),\n",
       " ('laughed', 1),\n",
       " ('anticipated', 1),\n",
       " ('frequent', 3),\n",
       " ('favourites', 1),\n",
       " ('winning', 1),\n",
       " ('unkindness', 1),\n",
       " ('impatiently', 1),\n",
       " ('weeps', 1),\n",
       " ('joyous', 3),\n",
       " ('dreading', 1),\n",
       " ('define', 1),\n",
       " ('vulgar', 1),\n",
       " ('exquisitely', 1),\n",
       " ('unintelligible', 1),\n",
       " ('missed', 1),\n",
       " ('sport', 3),\n",
       " ('popular', 1),\n",
       " ('acknowledged', 1),\n",
       " ('wail', 1),\n",
       " ('serenity', 1),\n",
       " ('precipitated', 1),\n",
       " ('fainting', 1),\n",
       " ('desperate', 1),\n",
       " ('hail', 1),\n",
       " ('enticing', 1),\n",
       " ('searching', 1),\n",
       " ('lamented', 1),\n",
       " ('gardens', 1),\n",
       " ('meanly', 1),\n",
       " ('helped', 1),\n",
       " ('graceful', 1),\n",
       " ('finest', 1),\n",
       " ('doors', 1),\n",
       " ('imply', 1),\n",
       " ('organs', 1),\n",
       " ('shortened', 1),\n",
       " ('empire', 1),\n",
       " ('gestures', 3),\n",
       " ('interpreter', 1),\n",
       " ('concerned', 1),\n",
       " ('countryman', 1),\n",
       " ('stick', 1),\n",
       " ('familiarised', 1),\n",
       " ('vestige', 1),\n",
       " ('novelty', 1),\n",
       " ('malicious', 1),\n",
       " ('realised', 1),\n",
       " ('cruelty', 1),\n",
       " ('interpret', 1),\n",
       " ('agonised', 1),\n",
       " ('intimated', 1),\n",
       " ('tearful', 1),\n",
       " ('fifth', 1),\n",
       " ('steep', 1),\n",
       " ('pauses', 1),\n",
       " ('chastened', 1),\n",
       " ('arising', 1),\n",
       " ('successive', 1),\n",
       " ('curiosities', 1),\n",
       " ('giant', 1),\n",
       " ('softly', 1),\n",
       " ('henceforth', 1),\n",
       " ('fruitlessly', 1),\n",
       " ('basest', 1),\n",
       " ('closing', 1),\n",
       " ('breakers', 1),\n",
       " ('steered', 1),\n",
       " ('dialogue', 1),\n",
       " ('brides', 1),\n",
       " ('prescribed', 1),\n",
       " ('doubts', 1),\n",
       " ('vanquished', 1),\n",
       " ('retard', 1),\n",
       " ('bustle', 1),\n",
       " ('amphitheatre', 1),\n",
       " ('inspecting', 1),\n",
       " ('handkerchief', 1),\n",
       " ('jeer', 1),\n",
       " ('nets', 1),\n",
       " ('released', 1),\n",
       " ('marks', 1),\n",
       " ('wrap', 1),\n",
       " ('greeks', 1),\n",
       " ('purchasing', 1),\n",
       " ('protraction', 1),\n",
       " ('aright', 1),\n",
       " ('reconcile', 1),\n",
       " ('infantine', 1),\n",
       " ('surmounted', 1),\n",
       " ('pitied', 1),\n",
       " ('txt', 1),\n",
       " ('special', 1),\n",
       " ('electronic', 27),\n",
       " ('compilation', 1),\n",
       " ('unlink', 1),\n",
       " ('detach', 1),\n",
       " ('processing', 1),\n",
       " ('hypertext', 1),\n",
       " ('royalty', 3),\n",
       " ('applicable', 3),\n",
       " ('legally', 1),\n",
       " ('periodic', 1),\n",
       " ('notifies', 1),\n",
       " ('f', 11),\n",
       " ('replacement', 5),\n",
       " ('codes', 1),\n",
       " ('disclaimer', 3),\n",
       " ('distributor', 1),\n",
       " ('warranties', 3),\n",
       " ('limitation', 3),\n",
       " ('types', 1),\n",
       " ('invalidity', 1),\n",
       " ('indemnity', 1),\n",
       " ('employee', 1),\n",
       " ('hundreds', 1),\n",
       " ('ensuring', 1),\n",
       " ('non', 1),\n",
       " ('organized', 1),\n",
       " ('identification', 1),\n",
       " ('ut', 1),\n",
       " ('licensed', 1),\n",
       " ('outdated', 1),\n",
       " ('determine', 1),\n",
       " ('solicitation', 1),\n",
       " ('international', 1),\n",
       " ('pg', 1),\n",
       " ('presents', 3),\n",
       " ('conjectures', 1),\n",
       " ('arriving', 1),\n",
       " ('owner', 5),\n",
       " ('think', 29),\n",
       " ('benefits', 1),\n",
       " ('madly', 1),\n",
       " ('unemployed', 1),\n",
       " ('fog', 1),\n",
       " ('fearing', 3),\n",
       " ('ventures', 1),\n",
       " ('provoke', 1),\n",
       " ('worship', 1),\n",
       " ('stores', 1),\n",
       " ('baths', 1),\n",
       " ('averred', 1),\n",
       " ('ghosts', 1),\n",
       " ('contradictory', 1),\n",
       " ('lords', 1),\n",
       " ('disregard', 1),\n",
       " ('recur', 1),\n",
       " ('unlimited', 1),\n",
       " ('statement', 1),\n",
       " ('smoothed', 1),\n",
       " ('strength', 15),\n",
       " ('endued', 5),\n",
       " ('stages', 1),\n",
       " ('acuteness', 1),\n",
       " ('stimulus', 1),\n",
       " ('profane', 1),\n",
       " ('weaken', 1),\n",
       " ('harm', 1),\n",
       " ('guess', 3),\n",
       " ('getting', 1),\n",
       " ('perversity', 1),\n",
       " ('usage', 1),\n",
       " ('disliked', 1),\n",
       " ('wear', 1),\n",
       " ('justify', 1),\n",
       " ('assurance', 1),\n",
       " ('smiling', 3),\n",
       " ('variable', 1),\n",
       " ('officer', 1),\n",
       " ('suspicions', 1),\n",
       " ('severity', 3),\n",
       " ('melt', 1),\n",
       " ('augmenting', 1),\n",
       " ('calamities', 1),\n",
       " ('unalterable', 1),\n",
       " ('reap', 1),\n",
       " ('spots', 1),\n",
       " ('community', 1),\n",
       " ('glowed', 1),\n",
       " ('bloody', 1),\n",
       " ('sparrow', 1),\n",
       " ('uttered', 9),\n",
       " ('dried', 3),\n",
       " ('loudly', 1),\n",
       " ('quarter', 1),\n",
       " ('enticed', 1),\n",
       " ('cultivating', 1),\n",
       " ('pronunciation', 1),\n",
       " ('endeared', 1),\n",
       " ('indications', 1),\n",
       " ('pictures', 1),\n",
       " ('raven', 1),\n",
       " ('curiously', 1),\n",
       " ('insight', 1),\n",
       " ('bind', 1),\n",
       " ('religion', 3),\n",
       " ('plot', 1),\n",
       " ('insultingly', 1),\n",
       " ('kingdoms', 1),\n",
       " ('mightier', 1),\n",
       " ('preference', 1),\n",
       " ('soldier', 1),\n",
       " ('warring', 1),\n",
       " ('alluring', 1),\n",
       " ('depending', 1),\n",
       " ('blameless', 1),\n",
       " ('serviceable', 1),\n",
       " ('bird', 1),\n",
       " ('acting', 1),\n",
       " ('females', 1),\n",
       " ('outrages', 1),\n",
       " ('educate', 1),\n",
       " ('sleeper', 1),\n",
       " ('treble', 1),\n",
       " ('governed', 1),\n",
       " ('disquiet', 1),\n",
       " ('joyful', 1),\n",
       " ('external', 1),\n",
       " ('tower', 1),\n",
       " ('spectacle', 1),\n",
       " ('cabinets', 1),\n",
       " ('capacities', 1),\n",
       " ('engages', 1),\n",
       " ('forests', 1),\n",
       " ('quiet', 3),\n",
       " ('insatiate', 1),\n",
       " ('unlocked', 1),\n",
       " ('overspread', 1),\n",
       " ('recovering', 1),\n",
       " ('committing', 1),\n",
       " ('unfailing', 1),\n",
       " ('blew', 1),\n",
       " ('imparted', 1),\n",
       " ('bared', 1),\n",
       " ('inevitable', 1),\n",
       " ('designs', 1),\n",
       " ('whispers', 1),\n",
       " ('fish', 3),\n",
       " ('bridal', 1),\n",
       " ('drunken', 1),\n",
       " ('revolt', 1),\n",
       " ('auditor', 1),\n",
       " ('periods', 1),\n",
       " ('weary', 1),\n",
       " ('murmured', 1),\n",
       " ('extricate', 1),\n",
       " ('hare', 1),\n",
       " ('infinitely', 1),\n",
       " ('talents', 1),\n",
       " ('trod', 1),\n",
       " ('fraud', 1),\n",
       " ('brows', 1),\n",
       " ('demands', 1),\n",
       " ('fairly', 1),\n",
       " ('boils', 1),\n",
       " ('commercial', 1),\n",
       " ('indicate', 1),\n",
       " ('archive', 13),\n",
       " ('sharing', 1),\n",
       " ('downloading', 1),\n",
       " ('accessed', 1),\n",
       " ('binary', 1),\n",
       " ('proprietary', 1),\n",
       " ('expend', 1),\n",
       " ('transcription', 1),\n",
       " ('indirect', 1),\n",
       " ('disclaimers', 1),\n",
       " ('unenforceability', 1),\n",
       " ('agent', 1),\n",
       " ('promotion', 1),\n",
       " ('indirectly', 1),\n",
       " ('modification', 1),\n",
       " ('additions', 1),\n",
       " ('deletions', 1),\n",
       " ('obsolete', 1),\n",
       " ('ein', 1),\n",
       " ('machine', 1),\n",
       " ('accepting', 1),\n",
       " ('card', 1),\n",
       " ('network', 1),\n",
       " ('subscribe', 1),\n",
       " ('copy', 12),\n",
       " ('included', 4),\n",
       " ('land', 20),\n",
       " ('require', 2),\n",
       " ('absence', 8),\n",
       " ('indicating', 2),\n",
       " ('height', 4),\n",
       " ('leaving', 4),\n",
       " ('profited', 2),\n",
       " ('wait', 4),\n",
       " ('liberty', 6),\n",
       " ('prevailed', 2),\n",
       " ('rough', 2),\n",
       " ('issue', 2),\n",
       " ('zeal', 4),\n",
       " ('forget', 10),\n",
       " ('greedily', 2),\n",
       " ('examine', 4),\n",
       " ('unjust', 2),\n",
       " ('moderation', 2),\n",
       " ('alleging', 2),\n",
       " ('temporary', 2),\n",
       " ('extremest', 2),\n",
       " ('acted', 4),\n",
       " ('proclaim', 2),\n",
       " ('resigned', 2),\n",
       " ('vent', 2),\n",
       " ('flung', 2),\n",
       " ('supplied', 2),\n",
       " ('shepherd', 2),\n",
       " ('existing', 2),\n",
       " ('absolutely', 2),\n",
       " ('copies', 8),\n",
       " ('imposed', 2),\n",
       " ('reposed', 2),\n",
       " ('redistributing', 2),\n",
       " ('status', 4),\n",
       " ('specified', 2),\n",
       " ('receipt', 2),\n",
       " ('warranty', 2),\n",
       " ('costs', 2),\n",
       " ('federal', 2),\n",
       " ('contributions', 2),\n",
       " ('email', 2),\n",
       " ('restrictions', 2),\n",
       " ('title', 2),\n",
       " ('feels', 2),\n",
       " ('certainly', 12),\n",
       " ('celebrated', 2),\n",
       " ('best', 12),\n",
       " ('price', 2),\n",
       " ('groan', 2),\n",
       " ('evils', 4),\n",
       " ('lineaments', 2),\n",
       " ('means', 26),\n",
       " ('villa', 2),\n",
       " ('dawn', 4),\n",
       " ('sad', 10),\n",
       " ('women', 4),\n",
       " ('startled', 2),\n",
       " ('sprung', 2),\n",
       " ('guessed', 2),\n",
       " ('handwriting', 2),\n",
       " ('altered', 6),\n",
       " ('happily', 2),\n",
       " ('tempted', 4),\n",
       " ('loss', 4),\n",
       " ('echoed', 2),\n",
       " ('disclosed', 2),\n",
       " ('earnestly', 6),\n",
       " ('deadly', 6),\n",
       " ('gather', 2),\n",
       " ('pilgrimage', 4),\n",
       " ('mule', 2),\n",
       " ('surmount', 2),\n",
       " ('touching', 2),\n",
       " ('resembling', 2),\n",
       " ('reference', 2),\n",
       " ('refreshed', 4),\n",
       " ('anxiously', 2),\n",
       " ('overflowing', 2),\n",
       " ('appearing', 2),\n",
       " ('shrink', 2),\n",
       " ('copying', 4),\n",
       " ('registered', 2),\n",
       " ('refund', 10),\n",
       " ('c', 4),\n",
       " ('individual', 4),\n",
       " ('based', 2),\n",
       " ('format', 4),\n",
       " ('prominently', 2),\n",
       " ('requirements', 4),\n",
       " ('ascii', 2),\n",
       " ('tax', 6),\n",
       " ('damage', 2),\n",
       " ('legal', 2),\n",
       " ('implied', 2),\n",
       " ('widest', 2),\n",
       " ('solicit', 2),\n",
       " ('foot', 5),\n",
       " ('confer', 1),\n",
       " ('effected', 1),\n",
       " ('harder', 1),\n",
       " ('slowly', 3),\n",
       " ('abandoned', 3),\n",
       " ('rashly', 3),\n",
       " ('stiff', 1),\n",
       " ('despairing', 3),\n",
       " ('disguise', 1),\n",
       " ('starry', 1),\n",
       " ('possesses', 1),\n",
       " ('reputation', 1),\n",
       " ('unbending', 1),\n",
       " ('fortunes', 1),\n",
       " ('wife', 11),\n",
       " ('idol', 1),\n",
       " ('patience', 3),\n",
       " ('desired', 25),\n",
       " ('milanese', 1),\n",
       " ('cherish', 1),\n",
       " ('diversity', 1),\n",
       " ('turbulence', 1),\n",
       " ('gladness', 3),\n",
       " ('enchantment', 1),\n",
       " ('infidels', 1),\n",
       " ('agents', 1),\n",
       " ('recorded', 3),\n",
       " ('humane', 1),\n",
       " ('joys', 5),\n",
       " ('elements', 3),\n",
       " ('inclination', 1),\n",
       " ('announced', 1),\n",
       " ('sentences', 1),\n",
       " ('unlike', 7),\n",
       " ('achieve', 1),\n",
       " ('easier', 1),\n",
       " ('pursues', 1),\n",
       " ('precepts', 1),\n",
       " ('interruption', 1),\n",
       " ('enslaved', 1),\n",
       " ('checked', 3),\n",
       " ('energy', 1),\n",
       " ('astonished', 3),\n",
       " ('glide', 1),\n",
       " ('miss', 1),\n",
       " ('pierce', 1),\n",
       " ('narrower', 1),\n",
       " ('torn', 5),\n",
       " ('spectators', 1),\n",
       " ('staggered', 1),\n",
       " ('suspicious', 1),\n",
       " ('hesitate', 1),\n",
       " ('rob', 3),\n",
       " ('heavier', 1),\n",
       " ('suppressed', 1),\n",
       " ('raging', 1),\n",
       " ('fettered', 1),\n",
       " ('causing', 1),\n",
       " ('brute', 1),\n",
       " ('mutability', 1),\n",
       " ('swelled', 3),\n",
       " ('commiserate', 1),\n",
       " ('sweeter', 1),\n",
       " ('outside', 3),\n",
       " ('hearers', 1),\n",
       " ('wipe', 1),\n",
       " ('dinner', 1),\n",
       " ('transparent', 1),\n",
       " ('disgusted', 1),\n",
       " ('slothful', 1),\n",
       " ('stealth', 1),\n",
       " ('recommended', 1),\n",
       " ('freedom', 3),\n",
       " ('assume', 1),\n",
       " ('denied', 1),\n",
       " ('repeating', 1),\n",
       " ('apprehending', 1),\n",
       " ('vows', 1),\n",
       " ('securely', 1),\n",
       " ('burned', 3),\n",
       " ('joint', 1),\n",
       " ('unutterable', 1),\n",
       " ('festival', 1),\n",
       " ('careless', 1),\n",
       " ('availed', 1),\n",
       " ('game', 1),\n",
       " ('discontent', 1),\n",
       " ('pitiable', 1),\n",
       " ('immersed', 1),\n",
       " ('buy', 1),\n",
       " ('devilish', 1),\n",
       " ('ravish', 1),\n",
       " ('gasped', 1),\n",
       " ('inspiring', 1),\n",
       " ('bury', 1),\n",
       " ('removal', 1),\n",
       " ('languishing', 1),\n",
       " ('profoundly', 1),\n",
       " ('incurable', 1),\n",
       " ('weigh', 1),\n",
       " ('charmed', 1),\n",
       " ('attack', 1),\n",
       " ('artifice', 1),\n",
       " ('opposing', 1),\n",
       " ('amazing', 1),\n",
       " ('venture', 1),\n",
       " ('elevation', 1),\n",
       " ('hovered', 1),\n",
       " ('serves', 1),\n",
       " ('backs', 1),\n",
       " ('renounce', 1),\n",
       " ('lingering', 1),\n",
       " ('adapt', 1),\n",
       " ('meanest', 1),\n",
       " ('execrate', 1),\n",
       " ('trampled', 1),\n",
       " ('derivative', 3),\n",
       " ('performances', 1),\n",
       " ('ebooks', 7),\n",
       " ('paragraphs', 3),\n",
       " ('display', 1),\n",
       " ('user', 3),\n",
       " ('exporting', 1),\n",
       " ('taxes', 1),\n",
       " ('donations', 15),\n",
       " ('mail', 1),\n",
       " ('discontinue', 1),\n",
       " ('defect', 3),\n",
       " ('data', 1),\n",
       " ('infringement', 1),\n",
       " ('damaged', 1),\n",
       " ('virus', 1),\n",
       " ('disclaim', 1),\n",
       " ('strict', 1),\n",
       " ('merchantability', 1),\n",
       " ('exclusion', 1),\n",
       " ('maximum', 1),\n",
       " ('goals', 1),\n",
       " ('educational', 1),\n",
       " ('corporation', 1),\n",
       " ('deductible', 1),\n",
       " ('irs', 1),\n",
       " ('paperwork', 1),\n",
       " ('unsolicited', 1),\n",
       " ('statements', 1),\n",
       " ('swamp', 1),\n",
       " ('donation', 1),\n",
       " ('originator', 1),\n",
       " ('newsletter', 1),\n",
       " ('attracts', 1),\n",
       " ('consistent', 1),\n",
       " ('conquer', 1),\n",
       " ('perused', 1),\n",
       " ('consecrated', 1),\n",
       " ('derive', 3),\n",
       " ('depart', 9),\n",
       " ('june', 1),\n",
       " ('suppliant', 1),\n",
       " ('purchase', 1),\n",
       " ('disclose', 3),\n",
       " ('belief', 3),\n",
       " ('floating', 1),\n",
       " ('stop', 1),\n",
       " ('inhabitant', 1),\n",
       " ('suffering', 5),\n",
       " ('restoration', 1),\n",
       " ('perilous', 1),\n",
       " ('excites', 1),\n",
       " ('furtherance', 1),\n",
       " ('clearness', 1),\n",
       " ('relation', 5),\n",
       " ('value', 3),\n",
       " ('brow', 1),\n",
       " ('reverential', 1),\n",
       " ('literally', 1),\n",
       " ('concentrated', 1),\n",
       " ('ignoble', 1),\n",
       " ('potent', 1),\n",
       " ('shortly', 1),\n",
       " ('starting', 1),\n",
       " ('furnished', 1),\n",
       " ('unwearied', 1),\n",
       " ('vigorous', 1),\n",
       " ('returns', 3),\n",
       " ('roman', 1),\n",
       " ('slackened', 1),\n",
       " ('foresaw', 1),\n",
       " ('illuminating', 1),\n",
       " ('overtake', 1),\n",
       " ('plead', 1),\n",
       " ('questioned', 1),\n",
       " ('stolen', 1),\n",
       " ('appeal', 1),\n",
       " ('distrusted', 1),\n",
       " ('shook', 1),\n",
       " ('satisfaction', 1),\n",
       " ('unquiet', 1),\n",
       " ('plunged', 3),\n",
       " ('slumbers', 1),\n",
       " ('er', 1),\n",
       " ('descending', 1),\n",
       " ('multiplicity', 1),\n",
       " ('dormant', 1),\n",
       " ('savoury', 1),\n",
       " ('devoured', 1),\n",
       " ('occur', 5),\n",
       " ('appropriated', 1),\n",
       " ('gilded', 1),\n",
       " ('musical', 1),\n",
       " ('inexperienced', 1),\n",
       " ('ranked', 1),\n",
       " ('fruitless', 1),\n",
       " ('dominions', 1),\n",
       " ('intimacy', 1),\n",
       " ('gloried', 1),\n",
       " ('precisely', 1),\n",
       " ('fitted', 3),\n",
       " ('tolerated', 1),\n",
       " ('terrors', 1),\n",
       " ('allowing', 1),\n",
       " ('slipped', 1),\n",
       " ('sleeping', 3),\n",
       " ('fairest', 1),\n",
       " ('faculties', 1),\n",
       " ('winding', 1),\n",
       " ('twinkling', 1),\n",
       " ('dedicate', 1),\n",
       " ('absolute', 1),\n",
       " ('overcast', 1),\n",
       " ('readier', 1),\n",
       " ('shifting', 1),\n",
       " ('casting', 1),\n",
       " ('queen', 1),\n",
       " ('debasing', 1),\n",
       " ('murdering', 1),\n",
       " ('soil', 1),\n",
       " ('toiled', 1),\n",
       " ('locking', 1),\n",
       " ('satisfying', 1),\n",
       " ('wearing', 1),\n",
       " ('daybreak', 1),\n",
       " ('folks', 1),\n",
       " ('class', 1),\n",
       " ('mortals', 1),\n",
       " ('speechless', 1),\n",
       " ('palace', 1),\n",
       " ('orbs', 1),\n",
       " ('unceasing', 1),\n",
       " ('fatigues', 1),\n",
       " ('hay', 1),\n",
       " ('clasp', 1),\n",
       " ('passages', 1),\n",
       " ('directions', 1),\n",
       " ('instinct', 1),\n",
       " ('marking', 1),\n",
       " ('mildly', 1),\n",
       " ('ruggedness', 1),\n",
       " ('formation', 1),\n",
       " ('fraught', 1),\n",
       " ('composing', 1),\n",
       " ('distinguishing', 1),\n",
       " ('buildings', 1),\n",
       " ('haunt', 1),\n",
       " ('thinks', 1),\n",
       " ('zip', 1),\n",
       " ('renamed', 1),\n",
       " ('tm', 57),\n",
       " ('complying', 3),\n",
       " ('entity', 3),\n",
       " ('paragraph', 11),\n",
       " ('govern', 1),\n",
       " ('redistribute', 1),\n",
       " ('compressed', 1),\n",
       " ('nonproprietary', 1),\n",
       " ('official', 3),\n",
       " ('calculate', 1),\n",
       " ('donate', 5),\n",
       " ('transcribe', 1),\n",
       " ('proofread', 1),\n",
       " ('limited', 5),\n",
       " ('inaccurate', 1),\n",
       " ('equipment', 3),\n",
       " ('contract', 1),\n",
       " ('consequential', 1),\n",
       " ('punitive', 1),\n",
       " ('incidental', 1),\n",
       " ('opportunities', 1),\n",
       " ('violates', 1),\n",
       " ('indemnify', 1),\n",
       " ('synonymous', 1),\n",
       " ('financial', 1),\n",
       " ('permanent', 1),\n",
       " ('sections', 1),\n",
       " ('mississippi', 1),\n",
       " ('revenue', 1),\n",
       " ('accessible', 1),\n",
       " ('regulating', 1),\n",
       " ('charities', 1),\n",
       " ('charitable', 1),\n",
       " ('donors', 1),\n",
       " ('gratefully', 1),\n",
       " ('addresses', 1),\n",
       " ('checks', 1),\n",
       " ('volunteer', 1),\n",
       " ('edition', 1),\n",
       " ('updated', 2),\n",
       " ('dying', 6),\n",
       " ('actually', 2),\n",
       " ('failing', 4),\n",
       " ('depend', 2),\n",
       " ('complaints', 2),\n",
       " ('perish', 6),\n",
       " ('notice', 8),\n",
       " ('measures', 2),\n",
       " ('divine', 12),\n",
       " ('shaken', 2),\n",
       " ('fairer', 2),\n",
       " ('distinctly', 2),\n",
       " ('animate', 2),\n",
       " ('mourning', 4),\n",
       " ('repent', 2),\n",
       " ('modesty', 2),\n",
       " ('thenceforth', 2),\n",
       " ('nay', 6),\n",
       " ('argument', 2),\n",
       " ('ascribed', 2),\n",
       " ('exceeded', 2),\n",
       " ('literary', 14),\n",
       " ('imitation', 2),\n",
       " ('lies', 4),\n",
       " ('apparel', 2),\n",
       " ('stayed', 2),\n",
       " ('imaginary', 2),\n",
       " ('access', 12),\n",
       " ('pangs', 2),\n",
       " ('proceeding', 2),\n",
       " ('awe', 2),\n",
       " ('guarded', 2),\n",
       " ('gall', 2),\n",
       " ('finally', 2),\n",
       " ('prejudice', 2),\n",
       " ('necessarily', 2),\n",
       " ('lulled', 2),\n",
       " ('editions', 4),\n",
       " ('concept', 2),\n",
       " ('printed', 2),\n",
       " ('available', 2),\n",
       " ('accordance', 2),\n",
       " ('computer', 2),\n",
       " ('damages', 4),\n",
       " ('readable', 2)]"
      ]
     },
     "execution_count": 18,
     "metadata": {},
     "output_type": "execute_result"
    }
   ],
   "source": [
    "book_84_counts_filtered.intersection(book_3296_counts_filtered).collect()"
   ]
  },
  {
   "cell_type": "code",
   "execution_count": 19,
   "id": "641f20d2",
   "metadata": {},
   "outputs": [
    {
     "name": "stdout",
     "output_type": "stream",
     "text": [
      "books 84 and 3296 share 816 words\n"
     ]
    }
   ],
   "source": [
    "print(f\"books 84 and 3296 share {book_84_counts_filtered.intersection(book_3296_counts_filtered).count()} words\")"
   ]
  },
  {
   "cell_type": "markdown",
   "id": "6587ae14",
   "metadata": {},
   "source": [
    "#### Write your answer here"
   ]
  },
  {
   "cell_type": "markdown",
   "id": "efa71269",
   "metadata": {},
   "source": [
    "No, counting the number of shared words  isn't a good distance metric for evaluating topic similarity because if you compare books 84 and 3296, they have the most shared words, despite books 398 and 3296 having the same topic. Looking at it, books 84 and 3296 share words such as \"project\" and \"online\", words that don't pertain to a specific topic, but are general words that can be applied to many."
   ]
  },
  {
   "cell_type": "markdown",
   "id": "a6f8f857",
   "metadata": {},
   "source": [
    "## Part II \n",
    "\n",
    "Another approach to estimating similarity consists of computing the Euclidean distance across a set of words. For example, suppose we have 3 documents A, B and C with the following counts for the words `evolution`, `DNA`, `biology` and `finance`. \n",
    "\n",
    "```python \n",
    "A = [4, 9, 6, 8]\n",
    "B = [3, 7, 7, 10]\n",
    "C = [15, 10, 1, 1]\n",
    "```\n",
    "Although all documents contain exactly the four words, the number of times these words appear in each book may be indicative of thier topic. For example, documents `A` and `B` are more likely to be business related since they contain the word `finance` more frequently (8 and 10 times respectively). Document `C` may be a technical document since it focuses on more technical words (`evolution` and `DNA`) and less on the words `finance`.\n",
    "\n",
    "The Euclidean distance, which can be computed using the `scikit` snippet below, is more indicative of topic-relatedness between the two documents.\n",
    "\n",
    "```python\n",
    "from scipy.spatial.distance import euclidean \n",
    "print(f\"The Euclidean distance between A and B is: {euclidean(A, B)}\")\n",
    "\n",
    "print(f\"The Euclidean distance between A and C is: {euclidean(A, C)}\")\n",
    "\n",
    "print(f\"The Euclidean distance between B and C is: {euclidean(B, C)}\")\n",
    "```\n"
   ]
  },
  {
   "cell_type": "markdown",
   "id": "9abdc35e",
   "metadata": {},
   "source": [
    "### Q16\n",
    "\n",
    "To calculate the Euclidean distance, we must first identify the set of words by which we will compare the documents. Here, we will explore the words that are common to all 4 documents. We will store the data in a matrix called `counts_matrix`.\n",
    "\n",
    "Start by finding the words that are common to all four documents after stop-word filtering and store the counts for each word in a column of `counts_matrix`. \n",
    "\n",
    "To take the previous example, you can generate an emtpy matrix with 3 lines (documents `A`, `B` and `C`) and 4 columns (words `evolution`, `DNA`, `biology` and `finance`) using the following code.\n",
    "\n",
    "```python\n",
    "import numpy as np\n",
    "counts_matrix = np.zeros([3,4])\n",
    "```\n",
    "\n",
    "After generting the counts, you can fill the counts for a document, say `A`, using the following code:\n",
    "\n",
    "```python\n",
    "counts_matrix[0, :] = [4, 9, 6, 8] \n",
    "```\n",
    "* Other than for building `counts_matrix` you should exclusively use operations or actions on the `RDD` to answer this question. \n",
    "  * Code that uses methods such as `some_rdd.X().Y().Z()...` is allowed\n",
    "  * Code that uses functions such as `some_func(...)` is not allowed\n"
   ]
  },
  {
   "cell_type": "code",
   "execution_count": 20,
   "id": "c3cae946",
   "metadata": {},
   "outputs": [
    {
     "data": {
      "text/plain": [
       "array([[88., 98., 13., ...,  1.,  1.,  1.],\n",
       "       [88., 98., 13., ...,  2.,  2.,  1.],\n",
       "       [87., 93.,  9., ...,  1.,  1.,  1.],\n",
       "       [88., 97., 10., ...,  1.,  1.,  1.]])"
      ]
     },
     "execution_count": 20,
     "metadata": {},
     "output_type": "execute_result"
    }
   ],
   "source": [
    "### Write your code here\n",
    "import numpy as np\n",
    "\n",
    "# Get words in books\n",
    "book_43_filtered = process_RDD('data/43.txt')\n",
    "book_84_filtered = process_RDD('data/84.txt')\n",
    "book_398_filtered = process_RDD('data/398.txt')\n",
    "book_3296_filtered = process_RDD('data/3296.txt')\n",
    "\n",
    "# Find common words between books\n",
    "common_words = book_43_filtered.join(book_84_filtered).join(book_398_filtered).join(book_3296_filtered)\n",
    "\n",
    "# Create matrix\n",
    "counts_matrix = np.zeros([4, common_words.count()])\n",
    "\n",
    "# Populate row 0 with book_43\n",
    "counts_matrix[0, :] = common_words.map(lambda x: x[1][0][0][0]).collect()\n",
    "\n",
    "# Populate row 1 with book_84\n",
    "counts_matrix[1, :] = common_words.map(lambda x: x[1][0][0][1]).collect()\n",
    "\n",
    "# Populate row 2 with book 398\n",
    "counts_matrix[2, :] = common_words.map(lambda x: x[1][0][1]).collect()\n",
    "\n",
    "# Populate row 3 with book 3296\n",
    "counts_matrix[3, :] = common_words.map(lambda x: x[1][1]).collect()\n",
    "\n",
    "counts_matrix"
   ]
  },
  {
   "cell_type": "markdown",
   "id": "124bcdd8",
   "metadata": {},
   "source": [
    "### Q17\n",
    "\n",
    "Compute the Euclidean distance between `book_398` and `book_3296`, which both talk about religion and `book_84` and `book_398`. What do you conclude about using the Euclidean distance for evaluating topic relatedness across documents?\n"
   ]
  },
  {
   "cell_type": "code",
   "execution_count": 21,
   "id": "7b6a81dd",
   "metadata": {},
   "outputs": [
    {
     "name": "stdout",
     "output_type": "stream",
     "text": [
      "The Euclidean distance between book_398 and book_3296 is: 1156.6628722320086\n",
      "The Euclidean distance between book_84 and book_398 is: 751.6688100486809\n"
     ]
    }
   ],
   "source": [
    "### Write your code here\n",
    "from scipy.spatial.distance import euclidean \n",
    "\n",
    "print(f\"The Euclidean distance between book_398 and book_3296 is: {euclidean(counts_matrix[2], counts_matrix[3])}\")\n",
    "print(f\"The Euclidean distance between book_84 and book_398 is: {euclidean(counts_matrix[1], counts_matrix[2])}\")"
   ]
  },
  {
   "cell_type": "markdown",
   "id": "89981b46",
   "metadata": {},
   "source": [
    "#### Write your justification here"
   ]
  },
  {
   "cell_type": "markdown",
   "id": "f624f1dd",
   "metadata": {},
   "source": [
    "Using Euclidean distance is not useful for evaluating topic relatedness across documents because books 398 and 3296, both of which is about religion, had a higher Euclidean distance than books 84 and 398. This suggests that books 398 and 3296 are less related than books 84 and 398, which we know isn't the case."
   ]
  },
  {
   "cell_type": "markdown",
   "id": "3f4e54e6",
   "metadata": {},
   "source": [
    "### Q18\n",
    "\n",
    "Bonus question (5 points): Can you think of a few things we could do to improve similarity between documents that pertain to the same topic. Justify your answer without giving code"
   ]
  },
  {
   "cell_type": "markdown",
   "id": "5c8c6de1",
   "metadata": {},
   "source": [
    "#### Write your answer here\n"
   ]
  },
  {
   "cell_type": "markdown",
   "id": "e1f1426b",
   "metadata": {},
   "source": [
    "I noted in Q15 that books 84 and 3296 share a lot of generic words together that doesn't necessarily pertain to their topic of discussion. While we removed the stop words, there are still a lot of words that are generic, for example, \"unlike\", is a pretty generic word, that doesn't neceesarily pertain to a topic. I think that removing words like those from being considered in the documents' similarity could be a way to find less generic words that would be used for specific topics of discussion."
   ]
  },
  {
   "cell_type": "markdown",
   "id": "aedf1d74",
   "metadata": {},
   "source": [
    "## Part III\n",
    "\n",
    "In this part we will build some basic analytics for a dataset consisting of flight arrival and departure details for all commercial flights within the USA in one month. While this dataset can be managed using Pandas (<1M records), scaling to a yearly or longer timeframe will greatly benefit from using a distributed computing framework such as `Spark`.\n",
    "\n",
    "Here, you should use exclusively `SparkDatFrames. \n",
    "\n",
    "We want to analyze this dataset to better schedule trips.  For example:\n",
    " * Avoid airlines carriers that are most often associated with delays.\n",
    " * Avoid departure days where delays are most frequent.\n",
    " * Avoid airports which are associated with delays or long taxxying time.\n",
    "* etc.\n",
    " \n",
    "\n",
    "The information about the fields contained in the data file can be found [here](https://dataverse.harvard.edu/dataset.xhtml;jsessionid=0414e25969eccd0e88ae4d64fa0b?persistentId=doi%3A10.7910%2FDVN%2FHG7NV7&version=&q=&fileTypeGroupFacet=&fileTag=%221.+Documentation%22&fileSortField=date&fileSortOrder=desc)\n"
   ]
  },
  {
   "cell_type": "markdown",
   "id": "149805af",
   "metadata": {},
   "source": [
    "### Q19\n",
    "\n",
    "Load the file `flight_info.csv` into a spark `DataFrame` called `fight_info`.\n",
    "\n",
    "  * Note that you will need to create a sparkSession prior to loading the data\n",
    "  \n",
    "* How many entries does the file contain?\n",
    "\n"
   ]
  },
  {
   "cell_type": "code",
   "execution_count": 22,
   "id": "3ad5e6ad",
   "metadata": {},
   "outputs": [
    {
     "name": "stdout",
     "output_type": "stream",
     "text": [
      "There are 450017 entries in flight_info.csv\n"
     ]
    }
   ],
   "source": [
    "### Write your code here\n",
    "from pyspark.sql import SparkSession\n",
    "from pyspark.sql import functions as F\n",
    "\n",
    "spark = SparkSession.builder.getOrCreate()\n",
    "\n",
    "# Load flight_info.csv into spark DF fight_info\n",
    "fight_info = spark.read.csv(\"data/flight_info.csv\", header=True)\n",
    "\n",
    "# Print number of entries\n",
    "print(f\"There are {fight_info.count()} entries in flight_info.csv\")"
   ]
  },
  {
   "cell_type": "markdown",
   "id": "4fad81f1",
   "metadata": {},
   "source": [
    "### Q20\n",
    "\n",
    "Use `pySpark-SQL` or `pandas-like syntax to compute the airlines represented in this dataset\n",
    "The airline information is stored in a field called UniqueCarrier\n",
    "* UniqueCarrier: Represents the unique carrier code (ex.AA = American Airlines) \n"
   ]
  },
  {
   "cell_type": "code",
   "execution_count": 23,
   "id": "73fd7b0b",
   "metadata": {},
   "outputs": [
    {
     "name": "stdout",
     "output_type": "stream",
     "text": [
      "+-------------+\n",
      "|UniqueCarrier|\n",
      "+-------------+\n",
      "|           AA|\n",
      "|           EV|\n",
      "|           B6|\n",
      "|           DL|\n",
      "|           UA|\n",
      "|           NK|\n",
      "|           OO|\n",
      "|           F9|\n",
      "|           HA|\n",
      "|           WN|\n",
      "|           AS|\n",
      "|           VX|\n",
      "+-------------+\n",
      "\n"
     ]
    }
   ],
   "source": [
    "### Write your code here\n",
    "fight_info.select(\"UniqueCarrier\").distinct().show()"
   ]
  },
  {
   "cell_type": "markdown",
   "id": "1349b2f5",
   "metadata": {},
   "source": [
    "### Q21\n",
    "\n",
    "The data file contains various other fields, two of which are useful for answering the next question.\n",
    "\n",
    "* CRSDepTime: Represents the scheduled departure time\n",
    "* DepTime: Represents the actual departure time\n",
    "\n",
    "Compute the number of flights delayed per each carried code represented in this dataset. Sort the data by decreasing order of delays.\n",
    "  * A delay is observed when `DepTime` > `CRSDepTime`\n"
   ]
  },
  {
   "cell_type": "code",
   "execution_count": 24,
   "id": "c72cff25",
   "metadata": {},
   "outputs": [
    {
     "data": {
      "text/plain": [
       "[Row(UniqueCarrier='WN', count=54557),\n",
       " Row(UniqueCarrier='DL', count=28962),\n",
       " Row(UniqueCarrier='AA', count=26291),\n",
       " Row(UniqueCarrier='UA', count=19594),\n",
       " Row(UniqueCarrier='OO', count=17924),\n",
       " Row(UniqueCarrier='EV', count=12340),\n",
       " Row(UniqueCarrier='B6', count=10406),\n",
       " Row(UniqueCarrier='AS', count=4966),\n",
       " Row(UniqueCarrier='NK', count=4435),\n",
       " Row(UniqueCarrier='F9', count=3181),\n",
       " Row(UniqueCarrier='VX', count=2871),\n",
       " Row(UniqueCarrier='HA', count=2265)]"
      ]
     },
     "execution_count": 24,
     "metadata": {},
     "output_type": "execute_result"
    }
   ],
   "source": [
    "### Write your code here\n",
    "(fight_info\n",
    " # Filter by DepTime > CRSDepTime\n",
    " .filter(fight_info[\"DepTime\"] > fight_info[\"CRSDepTime\"])\n",
    " # Group by UniqueCarrier\n",
    " .groupBy(\"UniqueCarrier\")\n",
    " # Aggregates GroupedData by returning count of the number of delayed flight for each carried code\n",
    " .agg(F.count(\"UniqueCarrier\").alias(\"count\"))\n",
    " # Sort data by decreasing order of delays\n",
    " .sort(\"count\", ascending=False)\n",
    " .collect())"
   ]
  },
  {
   "cell_type": "markdown",
   "id": "1645593b",
   "metadata": {},
   "source": [
    "### Q22\n",
    "\n",
    " Use the file `airlines.csv` to find the the complete name of the airline. Here, you are required to load the file as a pyspark DataFrame; call it `airlines_info`, and repeat the query above while including the `flights.csv `file in your query ( requires doing a `join`) so that you can also display the full name of the carrier (second column). \n",
    "\n",
    "The result will look (approximately) like:\n",
    "\n",
    "```\n",
    "[Row(UniqueCarrier='WN', first(_c1)='Southwest Airlines', count=SOME_count),\n",
    " Row(UniqueCarrier='DL', first(_c1)='Delta Air Lines', count=SOME_count),\n",
    " Row(UniqueCarrier='AA', first(_c1)='American Airlines', count=SOME_count),\n",
    " ...\n",
    " ]\n",
    "```\n",
    "\n",
    "The carrier code in the `airlines.csv` file is provided in the 4th (1-based) column\n",
    "\n",
    "Note that the file `airlines.csv` does not have column header. Hence, you need to print one line of your dataset to see what names Spark gave to the columns. Use the name provided by Spark in your query."
   ]
  },
  {
   "cell_type": "code",
   "execution_count": 25,
   "id": "30cea22b",
   "metadata": {},
   "outputs": [
    {
     "name": "stdout",
     "output_type": "stream",
     "text": [
      "+---+--------------+---+----+---+-------+-------------+---+\n",
      "|_c0|           _c1|_c2| _c3|_c4|    _c5|          _c6|_c7|\n",
      "+---+--------------+---+----+---+-------+-------------+---+\n",
      "|  1|Private flight| \\N|   -|N/A|   null|         null|  Y|\n",
      "|  2|   135 Airways| \\N|null|GNL|GENERAL|United States|  N|\n",
      "+---+--------------+---+----+---+-------+-------------+---+\n",
      "only showing top 2 rows\n",
      "\n"
     ]
    }
   ],
   "source": [
    "### Write your code here\n",
    "airlines_info = spark.read.csv(\"data/airlines.csv\")\n",
    "\n",
    "airlines_info.show(2)"
   ]
  },
  {
   "cell_type": "code",
   "execution_count": 26,
   "id": "ec9e83b4",
   "metadata": {},
   "outputs": [
    {
     "data": {
      "text/plain": [
       "[Row(UniqueCarrier='WN', first(_c1)='Southwest Airlines', count=54557),\n",
       " Row(UniqueCarrier='DL', first(_c1)='Delta Air Lines', count=28962),\n",
       " Row(UniqueCarrier='AA', first(_c1)='American Airlines', count=26291),\n",
       " Row(UniqueCarrier='UA', first(_c1)='United Airlines', count=19594),\n",
       " Row(UniqueCarrier='OO', first(_c1)='SkyWest', count=17924),\n",
       " Row(UniqueCarrier='EV', first(_c1)='Atlantic Southeast Airlines', count=12340),\n",
       " Row(UniqueCarrier='B6', first(_c1)='JetBlue Airways', count=10406),\n",
       " Row(UniqueCarrier='AS', first(_c1)='Alaska Airlines', count=4966),\n",
       " Row(UniqueCarrier='NK', first(_c1)='Spirit Airlines', count=4435),\n",
       " Row(UniqueCarrier='F9', first(_c1)='Frontier Airlines', count=3181),\n",
       " Row(UniqueCarrier='VX', first(_c1)='Virgin America', count=2871),\n",
       " Row(UniqueCarrier='HA', first(_c1)='Hawaiian Airlines', count=2265)]"
      ]
     },
     "execution_count": 26,
     "metadata": {},
     "output_type": "execute_result"
    }
   ],
   "source": [
    "(airlines_info\n",
    " # Join with fight_info on airlines_info's _c3 and fight_info's UniqueCarrier\n",
    " .join(fight_info, airlines_info[\"_c3\"] == fight_info[\"UniqueCarrier\"])\n",
    " # Filter by DepTime > CRSDepTime\n",
    ".filter(fight_info[\"DepTime\"] > fight_info[\"CRSDepTime\"])\n",
    " # Group by UniqueCarrier\n",
    ".groupBy(\"UniqueCarrier\")\n",
    " # Aggregate GroupedData so carried code's airline is under \"first(_c1)\" and count of delayed flights is under \"count\"\n",
    ".agg(F.first(\"_c1\"), F.count(\"UniqueCarrier\").alias(\"count\"))\n",
    " # Sort data by decreasing order of delays\n",
    ".sort(\"count\", ascending=False)\n",
    ".collect())"
   ]
  },
  {
   "cell_type": "markdown",
   "id": "4e0123a8",
   "metadata": {},
   "source": [
    "### Q23\n",
    "\n",
    "Compute the number of delays per company per day. The day is encoded as an integer in the column `DayOfWeek` in `fight_info`. You can display the day as an integer or map it into a string name of the week.\n",
    "Sort the data by airline code (UniqueCarrier) and by increasing values of DayOfWeek\n",
    "\n",
    "\n",
    "You results should look like the following\n",
    "\n"
   ]
  },
  {
   "cell_type": "code",
   "execution_count": 27,
   "id": "f9971baa",
   "metadata": {},
   "outputs": [
    {
     "data": {
      "text/plain": [
       "[Row(UniqueCarrier='AA', DayOfWeek='1', count=5117),\n",
       " Row(UniqueCarrier='EV', DayOfWeek='1', count=2605),\n",
       " Row(UniqueCarrier='B6', DayOfWeek='1', count=1892),\n",
       " Row(UniqueCarrier='DL', DayOfWeek='1', count=6292),\n",
       " Row(UniqueCarrier='F9', DayOfWeek='1', count=632),\n",
       " Row(UniqueCarrier='NK', DayOfWeek='1', count=848),\n",
       " Row(UniqueCarrier='HA', DayOfWeek='1', count=300),\n",
       " Row(UniqueCarrier='OO', DayOfWeek='1', count=3467),\n",
       " Row(UniqueCarrier='UA', DayOfWeek='1', count=3893),\n",
       " Row(UniqueCarrier='WN', DayOfWeek='1', count=9970),\n",
       " Row(UniqueCarrier='AS', DayOfWeek='1', count=872),\n",
       " Row(UniqueCarrier='VX', DayOfWeek='1', count=564),\n",
       " Row(UniqueCarrier='B6', DayOfWeek='2', count=1787),\n",
       " Row(UniqueCarrier='AA', DayOfWeek='2', count=3688),\n",
       " Row(UniqueCarrier='DL', DayOfWeek='2', count=4008),\n",
       " Row(UniqueCarrier='EV', DayOfWeek='2', count=2032),\n",
       " Row(UniqueCarrier='F9', DayOfWeek='2', count=494),\n",
       " Row(UniqueCarrier='UA', DayOfWeek='2', count=2959),\n",
       " Row(UniqueCarrier='HA', DayOfWeek='2', count=336),\n",
       " Row(UniqueCarrier='OO', DayOfWeek='2', count=2744),\n",
       " Row(UniqueCarrier='NK', DayOfWeek='2', count=667),\n",
       " Row(UniqueCarrier='AS', DayOfWeek='2', count=669),\n",
       " Row(UniqueCarrier='WN', DayOfWeek='2', count=7991),\n",
       " Row(UniqueCarrier='VX', DayOfWeek='2', count=425),\n",
       " Row(UniqueCarrier='AA', DayOfWeek='3', count=2941),\n",
       " Row(UniqueCarrier='B6', DayOfWeek='3', count=1253),\n",
       " Row(UniqueCarrier='DL', DayOfWeek='3', count=3052),\n",
       " Row(UniqueCarrier='EV', DayOfWeek='3', count=1364),\n",
       " Row(UniqueCarrier='OO', DayOfWeek='3', count=2236),\n",
       " Row(UniqueCarrier='UA', DayOfWeek='3', count=2449),\n",
       " Row(UniqueCarrier='F9', DayOfWeek='3', count=358),\n",
       " Row(UniqueCarrier='NK', DayOfWeek='3', count=460),\n",
       " Row(UniqueCarrier='HA', DayOfWeek='3', count=255),\n",
       " Row(UniqueCarrier='WN', DayOfWeek='3', count=6749),\n",
       " Row(UniqueCarrier='AS', DayOfWeek='3', count=618),\n",
       " Row(UniqueCarrier='VX', DayOfWeek='3', count=362),\n",
       " Row(UniqueCarrier='B6', DayOfWeek='4', count=1254),\n",
       " Row(UniqueCarrier='AA', DayOfWeek='4', count=3575),\n",
       " Row(UniqueCarrier='DL', DayOfWeek='4', count=3657),\n",
       " Row(UniqueCarrier='EV', DayOfWeek='4', count=1667),\n",
       " Row(UniqueCarrier='OO', DayOfWeek='4', count=2615),\n",
       " Row(UniqueCarrier='HA', DayOfWeek='4', count=286),\n",
       " Row(UniqueCarrier='F9', DayOfWeek='4', count=392),\n",
       " Row(UniqueCarrier='UA', DayOfWeek='4', count=2776),\n",
       " Row(UniqueCarrier='NK', DayOfWeek='4', count=581),\n",
       " Row(UniqueCarrier='WN', DayOfWeek='4', count=7996),\n",
       " Row(UniqueCarrier='AS', DayOfWeek='4', count=728),\n",
       " Row(UniqueCarrier='VX', DayOfWeek='4', count=414),\n",
       " Row(UniqueCarrier='EV', DayOfWeek='5', count=1748),\n",
       " Row(UniqueCarrier='B6', DayOfWeek='5', count=1309),\n",
       " Row(UniqueCarrier='DL', DayOfWeek='5', count=3722),\n",
       " Row(UniqueCarrier='AA', DayOfWeek='5', count=3525),\n",
       " Row(UniqueCarrier='NK', DayOfWeek='5', count=576),\n",
       " Row(UniqueCarrier='OO', DayOfWeek='5', count=2603),\n",
       " Row(UniqueCarrier='F9', DayOfWeek='5', count=415),\n",
       " Row(UniqueCarrier='UA', DayOfWeek='5', count=2695),\n",
       " Row(UniqueCarrier='HA', DayOfWeek='5', count=412),\n",
       " Row(UniqueCarrier='WN', DayOfWeek='5', count=7900),\n",
       " Row(UniqueCarrier='AS', DayOfWeek='5', count=630),\n",
       " Row(UniqueCarrier='VX', DayOfWeek='5', count=404),\n",
       " Row(UniqueCarrier='EV', DayOfWeek='6', count=927),\n",
       " Row(UniqueCarrier='B6', DayOfWeek='6', count=1027),\n",
       " Row(UniqueCarrier='DL', DayOfWeek='6', count=2977),\n",
       " Row(UniqueCarrier='AA', DayOfWeek='6', count=2800),\n",
       " Row(UniqueCarrier='F9', DayOfWeek='6', count=356),\n",
       " Row(UniqueCarrier='UA', DayOfWeek='6', count=1576),\n",
       " Row(UniqueCarrier='NK', DayOfWeek='6', count=471),\n",
       " Row(UniqueCarrier='HA', DayOfWeek='6', count=344),\n",
       " Row(UniqueCarrier='OO', DayOfWeek='6', count=1492),\n",
       " Row(UniqueCarrier='WN', DayOfWeek='6', count=5270),\n",
       " Row(UniqueCarrier='AS', DayOfWeek='6', count=517),\n",
       " Row(UniqueCarrier='VX', DayOfWeek='6', count=231),\n",
       " Row(UniqueCarrier='EV', DayOfWeek='7', count=1997),\n",
       " Row(UniqueCarrier='B6', DayOfWeek='7', count=1884),\n",
       " Row(UniqueCarrier='DL', DayOfWeek='7', count=5254),\n",
       " Row(UniqueCarrier='AA', DayOfWeek='7', count=4645),\n",
       " Row(UniqueCarrier='UA', DayOfWeek='7', count=3246),\n",
       " Row(UniqueCarrier='NK', DayOfWeek='7', count=832),\n",
       " Row(UniqueCarrier='F9', DayOfWeek='7', count=534),\n",
       " Row(UniqueCarrier='HA', DayOfWeek='7', count=332),\n",
       " Row(UniqueCarrier='WN', DayOfWeek='7', count=8681),\n",
       " Row(UniqueCarrier='OO', DayOfWeek='7', count=2767),\n",
       " Row(UniqueCarrier='AS', DayOfWeek='7', count=932),\n",
       " Row(UniqueCarrier='VX', DayOfWeek='7', count=471)]"
      ]
     },
     "execution_count": 27,
     "metadata": {},
     "output_type": "execute_result"
    }
   ],
   "source": [
    "### Write your code here\n",
    "(fight_info\n",
    " # Filter for when there are delays\n",
    " .filter(fight_info[\"DepTime\"] > fight_info[\"CRSDepTime\"])\n",
    " # Group by both both UniqueCarrier and DayofWeek to display both values\n",
    " .groupBy(\"UniqueCarrier\", \"DayOfWeek\")\n",
    " # Aggregates GroupedData by returning count of the number of delayed flight for each carried code\n",
    " .agg(F.count(\"UniqueCarrier\").alias(\"count\"))\n",
    " # Sort by increasing value of DayOfWeek\n",
    " .sort(\"DayOfWeek\")\n",
    " .collect()\n",
    " ) "
   ]
  },
  {
   "cell_type": "markdown",
   "id": "4c955760",
   "metadata": {},
   "source": [
    "### Q24  \n",
    "\n",
    "Counting the number of delayed flights per airline is misleading, as airlines with more flights are more likley to have delays than companies with substantially fiewer flights. \n",
    "\n",
    "Repeat the same query above but, for each carrier, normalize the counts of delays by the total number of flights for that carrier. \n"
   ]
  },
  {
   "cell_type": "code",
   "execution_count": 28,
   "id": "13ae9b5e",
   "metadata": {},
   "outputs": [
    {
     "data": {
      "text/plain": [
       "[Row(UniqueCarrier='NK', DayOfWeek='3', NormalizedValue=0.283775447254781),\n",
       " Row(UniqueCarrier='AS', DayOfWeek='6', NormalizedValue=0.2875417130144605),\n",
       " Row(UniqueCarrier='NK', DayOfWeek='6', NormalizedValue=0.2909203211859172),\n",
       " Row(UniqueCarrier='AS', DayOfWeek='2', NormalizedValue=0.29099608525445847),\n",
       " Row(UniqueCarrier='EV', DayOfWeek='3', NormalizedValue=0.2927038626609442),\n",
       " Row(UniqueCarrier='OO', DayOfWeek='6', NormalizedValue=0.29300864100549884),\n",
       " Row(UniqueCarrier='EV', DayOfWeek='6', NormalizedValue=0.2974967907573813),\n",
       " Row(UniqueCarrier='AA', DayOfWeek='3', NormalizedValue=0.30285243538255585),\n",
       " Row(UniqueCarrier='HA', DayOfWeek='1', NormalizedValue=0.3033367037411527),\n",
       " Row(UniqueCarrier='AA', DayOfWeek='2', NormalizedValue=0.31950099627479855),\n",
       " Row(UniqueCarrier='AS', DayOfWeek='5', NormalizedValue=0.32142857142857145),\n",
       " Row(UniqueCarrier='HA', DayOfWeek='3', NormalizedValue=0.3223767383059418),\n",
       " Row(UniqueCarrier='HA', DayOfWeek='7', NormalizedValue=0.32390243902439025),\n",
       " Row(UniqueCarrier='OO', DayOfWeek='2', NormalizedValue=0.3284654057936318),\n",
       " Row(UniqueCarrier='NK', DayOfWeek='2', NormalizedValue=0.32970835392980724),\n",
       " Row(UniqueCarrier='DL', DayOfWeek='3', NormalizedValue=0.32994594594594595),\n",
       " Row(UniqueCarrier='AS', DayOfWeek='3', NormalizedValue=0.3333333333333333),\n",
       " Row(UniqueCarrier='EV', DayOfWeek='4', NormalizedValue=0.3346717526601084),\n",
       " Row(UniqueCarrier='OO', DayOfWeek='3', NormalizedValue=0.3355342136854742),\n",
       " Row(UniqueCarrier='AA', DayOfWeek='6', NormalizedValue=0.3415883859948762),\n",
       " Row(UniqueCarrier='HA', DayOfWeek='2', NormalizedValue=0.34782608695652173),\n",
       " Row(UniqueCarrier='DL', DayOfWeek='2', NormalizedValue=0.3480677377333912),\n",
       " Row(UniqueCarrier='EV', DayOfWeek='2', NormalizedValue=0.3492609144035751),\n",
       " Row(UniqueCarrier='EV', DayOfWeek='5', NormalizedValue=0.3498799039231385),\n",
       " Row(UniqueCarrier='NK', DayOfWeek='5', NormalizedValue=0.35294117647058826),\n",
       " Row(UniqueCarrier='AA', DayOfWeek='5', NormalizedValue=0.35448511665325827),\n",
       " Row(UniqueCarrier='AS', DayOfWeek='1', NormalizedValue=0.3553382233088835),\n",
       " Row(UniqueCarrier='OO', DayOfWeek='7', NormalizedValue=0.35638845955692944),\n",
       " Row(UniqueCarrier='HA', DayOfWeek='4', NormalizedValue=0.3566084788029925),\n",
       " Row(UniqueCarrier='F9', DayOfWeek='3', NormalizedValue=0.35764235764235763),\n",
       " Row(UniqueCarrier='B6', DayOfWeek='6', NormalizedValue=0.3583391486392184),\n",
       " Row(UniqueCarrier='F9', DayOfWeek='6', NormalizedValue=0.3603238866396761),\n",
       " Row(UniqueCarrier='NK', DayOfWeek='4', NormalizedValue=0.36042183622828783),\n",
       " Row(UniqueCarrier='AA', DayOfWeek='4', NormalizedValue=0.36133009904992924),\n",
       " Row(UniqueCarrier='AS', DayOfWeek='4', NormalizedValue=0.3731419784725782),\n",
       " Row(UniqueCarrier='DL', DayOfWeek='4', NormalizedValue=0.37712694647829226),\n",
       " Row(UniqueCarrier='EV', DayOfWeek='7', NormalizedValue=0.3808161708619375),\n",
       " Row(UniqueCarrier='OO', DayOfWeek='5', NormalizedValue=0.381839518849934),\n",
       " Row(UniqueCarrier='DL', DayOfWeek='5', NormalizedValue=0.3827642945290004),\n",
       " Row(UniqueCarrier='B6', DayOfWeek='4', NormalizedValue=0.38278388278388276),\n",
       " Row(UniqueCarrier='F9', DayOfWeek='4', NormalizedValue=0.38469087340529934),\n",
       " Row(UniqueCarrier='OO', DayOfWeek='4', NormalizedValue=0.38484179543782193),\n",
       " Row(UniqueCarrier='AS', DayOfWeek='7', NormalizedValue=0.38914405010438413),\n",
       " Row(UniqueCarrier='UA', DayOfWeek='6', NormalizedValue=0.3950864878415643),\n",
       " Row(UniqueCarrier='B6', DayOfWeek='3', NormalizedValue=0.39601769911504425),\n",
       " Row(UniqueCarrier='AA', DayOfWeek='7', NormalizedValue=0.3977564651481418),\n",
       " Row(UniqueCarrier='OO', DayOfWeek='1', NormalizedValue=0.4003464203233256),\n",
       " Row(UniqueCarrier='B6', DayOfWeek='5', NormalizedValue=0.40055079559363527),\n",
       " Row(UniqueCarrier='F9', DayOfWeek='2', NormalizedValue=0.4022801302931596),\n",
       " Row(UniqueCarrier='NK', DayOfWeek='7', NormalizedValue=0.41005421389847213),\n",
       " Row(UniqueCarrier='F9', DayOfWeek='5', NormalizedValue=0.4125248508946322),\n",
       " Row(UniqueCarrier='HA', DayOfWeek='6', NormalizedValue=0.4149577804583836),\n",
       " Row(UniqueCarrier='NK', DayOfWeek='1', NormalizedValue=0.4169124877089479),\n",
       " Row(UniqueCarrier='EV', DayOfWeek='1', NormalizedValue=0.4186756669881067),\n",
       " Row(UniqueCarrier='AA', DayOfWeek='1', NormalizedValue=0.4206329634196465),\n",
       " Row(UniqueCarrier='F9', DayOfWeek='7', NormalizedValue=0.4231378763866878),\n",
       " Row(UniqueCarrier='VX', DayOfWeek='6', NormalizedValue=0.42777777777777776),\n",
       " Row(UniqueCarrier='UA', DayOfWeek='2', NormalizedValue=0.4279722302574487),\n",
       " Row(UniqueCarrier='WN', DayOfWeek='2', NormalizedValue=0.4409314131214479),\n",
       " Row(UniqueCarrier='DL', DayOfWeek='6', NormalizedValue=0.4428741445998215),\n",
       " Row(UniqueCarrier='VX', DayOfWeek='2', NormalizedValue=0.4468980021030494),\n",
       " Row(UniqueCarrier='B6', DayOfWeek='2', NormalizedValue=0.44899497487437184),\n",
       " Row(UniqueCarrier='WN', DayOfWeek='6', NormalizedValue=0.4495052882975094),\n",
       " Row(UniqueCarrier='UA', DayOfWeek='5', NormalizedValue=0.451348182883939),\n",
       " Row(UniqueCarrier='UA', DayOfWeek='3', NormalizedValue=0.45242933678182157),\n",
       " Row(UniqueCarrier='B6', DayOfWeek='1', NormalizedValue=0.45811138014527847),\n",
       " Row(UniqueCarrier='UA', DayOfWeek='4', NormalizedValue=0.4651474530831099),\n",
       " Row(UniqueCarrier='WN', DayOfWeek='3', NormalizedValue=0.46838781317232286),\n",
       " Row(UniqueCarrier='VX', DayOfWeek='3', NormalizedValue=0.4713541666666667),\n",
       " Row(UniqueCarrier='HA', DayOfWeek='5', NormalizedValue=0.47139588100686497),\n",
       " Row(UniqueCarrier='B6', DayOfWeek='7', NormalizedValue=0.48085758039816234),\n",
       " Row(UniqueCarrier='UA', DayOfWeek='7', NormalizedValue=0.4904064058014806),\n",
       " Row(UniqueCarrier='DL', DayOfWeek='7', NormalizedValue=0.49495996231747524),\n",
       " Row(UniqueCarrier='VX', DayOfWeek='5', NormalizedValue=0.5024875621890548),\n",
       " Row(UniqueCarrier='F9', DayOfWeek='1', NormalizedValue=0.5031847133757962),\n",
       " Row(UniqueCarrier='VX', DayOfWeek='7', NormalizedValue=0.505907626208378),\n",
       " Row(UniqueCarrier='DL', DayOfWeek='1', NormalizedValue=0.5119609438567941),\n",
       " Row(UniqueCarrier='UA', DayOfWeek='1', NormalizedValue=0.5170673396201355),\n",
       " Row(UniqueCarrier='VX', DayOfWeek='4', NormalizedValue=0.5201005025125628),\n",
       " Row(UniqueCarrier='WN', DayOfWeek='7', NormalizedValue=0.5273036506104598),\n",
       " Row(UniqueCarrier='WN', DayOfWeek='1', NormalizedValue=0.5447194448997432),\n",
       " Row(UniqueCarrier='WN', DayOfWeek='5', NormalizedValue=0.5486111111111112),\n",
       " Row(UniqueCarrier='WN', DayOfWeek='4', NormalizedValue=0.5567082085915199),\n",
       " Row(UniqueCarrier='VX', DayOfWeek='1', NormalizedValue=0.5685483870967742)]"
      ]
     },
     "execution_count": 28,
     "metadata": {},
     "output_type": "execute_result"
    }
   ],
   "source": [
    "### Write your code here\n",
    "def Get_Normalized_Value():\n",
    "    # Get daily flights for each carrier code \n",
    "    daily_flights = (fight_info\n",
    "                     # Filter for when there are delays\n",
    "                     .filter(fight_info[\"DepTime\"] > fight_info[\"CRSDepTime\"])\n",
    "                     # Group by both both UniqueCarrier and DayofWeek to display both values\n",
    "                     .groupBy(\"UniqueCarrier\", \"DayOfWeek\")\n",
    "                     # Aggregates GroupedData by returning count of the number of delayed flight for each carried code\n",
    "                     .agg(F.count(\"UniqueCarrier\").alias(\"count\"))\n",
    "                     # Sort by increasing value of DayOfWeek\n",
    "                     .sort(\"DayOfWeek\")\n",
    "                    ) \n",
    "\n",
    "    # Get total flights for each carrier code\n",
    "    total_flights = (fight_info\n",
    "                     # Group data by UniqueCarrier\n",
    "                     .groupBy(\"UniqueCarrier\", \"DayOfWeek\")\n",
    "                     # Show count of each UniqueCarrier\n",
    "                     .agg(F.count(\"UniqueCarrier\").alias(\"TotalCount\"))\n",
    "                    )\n",
    "\n",
    "    normalized_flight = (daily_flights\n",
    "                         # Join daily_flightas and total_flights to get counts in same dataframe\n",
    "                         .join(total_flights, [\"UniqueCarrier\", \"DayOfWeek\"])\n",
    "                         # Find normalized value by dividing count of daily flights by total flight of carrier code\n",
    "                         .withColumn(\"NormalizedValue\", daily_flights[\"count\"] / total_flights[\"TotalCount\"])\n",
    "                         # Drop count and TotalColunt columns\n",
    "                         .select(\"UniqueCarrier\", \"DayOfWeek\", \"NormalizedValue\")\n",
    "                         # Sort by decreasing normalized value\n",
    "                         .sort(\"NormalizedValue\")\n",
    "                        )\n",
    "    \n",
    "    return normalized_flight.collect()\n",
    "\n",
    "Get_Normalized_Value()"
   ]
  },
  {
   "cell_type": "markdown",
   "id": "5b73b3e4",
   "metadata": {},
   "source": [
    "### Q25 \n",
    "\n",
    "Time the query above. How long did it take to run. \n",
    "  * Make sure you run the code a few times and compute the average run time.\n",
    "  * The above should be easy to implement if you use the correct Jupyter Notebook `magic` function\n",
    "  "
   ]
  },
  {
   "cell_type": "code",
   "execution_count": 29,
   "id": "7df43da8",
   "metadata": {},
   "outputs": [
    {
     "name": "stdout",
     "output_type": "stream",
     "text": [
      "530 ms ± 29.2 ms per loop (mean ± std. dev. of 7 runs, 1 loop each)\n"
     ]
    }
   ],
   "source": [
    "### Write your code here\n",
    "%timeit Get_Normalized_Value()"
   ]
  },
  {
   "cell_type": "markdown",
   "id": "604e85e0",
   "metadata": {},
   "source": [
    "### Q26 \n",
    "\n",
    "Use one of the techniques covered in class to accelerate this query. Time your query to see by how much the run time was improved"
   ]
  },
  {
   "cell_type": "code",
   "execution_count": 30,
   "id": "2e951d64",
   "metadata": {},
   "outputs": [],
   "source": [
    "### Write your code here\n",
    "def Get_Normalized_Value_Cached():\n",
    "    # Get and cache daily_flights  \n",
    "    daily_flights_cached = (fight_info\n",
    "                     # Filter for when there are delays\n",
    "                     .filter(fight_info[\"DepTime\"] > fight_info[\"CRSDepTime\"])\n",
    "                     # Group by both both UniqueCarrier and DayofWeek to display both values\n",
    "                     .groupBy(\"UniqueCarrier\", \"DayOfWeek\")\n",
    "                     # Aggregates GroupedData by returning count of the number of delayed flight for each carried code\n",
    "                     .agg(F.count(\"UniqueCarrier\").alias(\"count\"))\n",
    "                     # Sort by increasing value of DayOfWeek\n",
    "                     .sort(\"DayOfWeek\")\n",
    "                     .cache()\n",
    "                    ) \n",
    "\n",
    "    # Get and cache total flights for each carrier code\n",
    "    total_flights_cached = (fight_info\n",
    "                     # Group data by UniqueCarrier\n",
    "                     .groupBy(\"UniqueCarrier\", \"DayOfWeek\")\n",
    "                     # Show count of each UniqueCarrier\n",
    "                     .agg(F.count(\"UniqueCarrier\").alias(\"TotalCount\"))\n",
    "                     .cache()\n",
    "                    )\n",
    "\n",
    "    # Calculate and cache normalized value\n",
    "    normalized_flight_cached = (daily_flights_cached\n",
    "                         # Join daily_flightas and total_flights to get counts in same dataframe\n",
    "                         .join(total_flights_cached, [\"UniqueCarrier\", \"DayOfWeek\"])\n",
    "                         # Find normalized value by dividing count of daily flights by total flight of carrier code\n",
    "                         .withColumn(\"NormalizedValue\", daily_flights_cached[\"count\"] / total_flights_cached[\"TotalCount\"])\n",
    "                         # Drop count and TotalColunt columns\n",
    "                         .select(\"UniqueCarrier\", \"DayOfWeek\", \"NormalizedValue\")\n",
    "                         # Sort by decreasing normalized value\n",
    "                         .sort(\"NormalizedValue\", ascending=False)\n",
    "                         .cache()\n",
    "                        )\n",
    "\n",
    "    return normalized_flight_cached.collect()"
   ]
  },
  {
   "cell_type": "code",
   "execution_count": 31,
   "id": "d568e133",
   "metadata": {},
   "outputs": [
    {
     "name": "stderr",
     "output_type": "stream",
     "text": [
      "21/11/09 02:36:42 WARN CacheManager: Asked to cache already cached data.\n",
      "21/11/09 02:36:42 WARN CacheManager: Asked to cache already cached data.\n",
      "21/11/09 02:36:42 WARN CacheManager: Asked to cache already cached data.\n",
      "21/11/09 02:36:42 WARN CacheManager: Asked to cache already cached data.\n",
      "21/11/09 02:36:42 WARN CacheManager: Asked to cache already cached data.\n",
      "21/11/09 02:36:42 WARN CacheManager: Asked to cache already cached data.\n",
      "21/11/09 02:36:43 WARN CacheManager: Asked to cache already cached data.\n",
      "21/11/09 02:36:43 WARN CacheManager: Asked to cache already cached data.\n",
      "21/11/09 02:36:43 WARN CacheManager: Asked to cache already cached data.\n",
      "21/11/09 02:36:43 WARN CacheManager: Asked to cache already cached data.\n",
      "21/11/09 02:36:43 WARN CacheManager: Asked to cache already cached data.\n",
      "21/11/09 02:36:43 WARN CacheManager: Asked to cache already cached data.\n",
      "21/11/09 02:36:43 WARN CacheManager: Asked to cache already cached data.\n",
      "21/11/09 02:36:43 WARN CacheManager: Asked to cache already cached data.\n",
      "21/11/09 02:36:43 WARN CacheManager: Asked to cache already cached data.\n",
      "21/11/09 02:36:43 WARN CacheManager: Asked to cache already cached data.\n",
      "21/11/09 02:36:43 WARN CacheManager: Asked to cache already cached data.\n",
      "21/11/09 02:36:43 WARN CacheManager: Asked to cache already cached data.\n"
     ]
    },
    {
     "name": "stdout",
     "output_type": "stream",
     "text": [
      "127 ms ± 13.2 ms per loop (mean ± std. dev. of 7 runs, 1 loop each)\n"
     ]
    },
    {
     "name": "stderr",
     "output_type": "stream",
     "text": [
      "21/11/09 02:36:43 WARN CacheManager: Asked to cache already cached data.\n",
      "21/11/09 02:36:43 WARN CacheManager: Asked to cache already cached data.\n",
      "21/11/09 02:36:43 WARN CacheManager: Asked to cache already cached data.\n"
     ]
    }
   ],
   "source": [
    "%timeit Get_Normalized_Value_Cached()\n",
    "spark.catalog.clearCache()"
   ]
  },
  {
   "cell_type": "markdown",
   "id": "8a87a433",
   "metadata": {},
   "source": [
    "### Q27 \n",
    "\n",
    "Is the departure delay (i.e., DepTime - CRSDepTime) predictive of the arrival delay (ArrTime > CRSArrTime)?\n",
    "Use an approach of your choice (e.g. `skelearn` which we covered in class or `Spark`) to model as a linear regression the arrival delay as a function of the departure delay. \n",
    "\n"
   ]
  },
  {
   "cell_type": "code",
   "execution_count": 47,
   "id": "c2482f76",
   "metadata": {},
   "outputs": [],
   "source": [
    "### Write your code here\n",
    "import numpy as np\n",
    "import matplotlib.pyplot as plt\n",
    "from sklearn import linear_model\n",
    "from sklearn.model_selection import train_test_split"
   ]
  },
  {
   "cell_type": "code",
   "execution_count": 48,
   "id": "f8dbd52d",
   "metadata": {},
   "outputs": [],
   "source": [
    "# Get departure and arrival delays and convert to np arrays\n",
    "delays = (fight_info\n",
    "          # Calculate departure delay\n",
    "          .withColumn(\"DepartureDelay\", fight_info[\"DepTime\"] - fight_info[\"CRSDepTime\"])\n",
    "          # Calculate arrival delay\n",
    "          .withColumn(\"ArrivalDelay\", F.col(\"ArrTime\") - F.col(\"CRSArrTime\"))\n",
    "          # Filter out null values for both columns\n",
    "          .filter(F.col(\"DepartureDelay\").isNotNull() & F.col(\"ArrivalDelay\").isNotNull())\n",
    "          # Select departure and arrival delays columns\n",
    "          .select(\"DepartureDelay\", \"ArrivalDelay\")\n",
    "         )\n",
    "\n",
    "# Extract x and y values and convert to Numpy array\n",
    "depDelay = np.array(delays.select(F.col(\"DepartureDelay\")).collect())\n",
    "arrDelay = np.array(delays.select(F.col(\"ArrivalDelay\")).collect())"
   ]
  },
  {
   "cell_type": "code",
   "execution_count": 49,
   "id": "ae5529a1",
   "metadata": {},
   "outputs": [],
   "source": [
    "# Test train split \n",
    "x_train, x_test, y_train, y_test = train_test_split(depDelay, arrDelay)\n",
    "\n",
    "reg = linear_model.LinearRegression()\n",
    "reg.fit(x_train, y_train)\n",
    "prediction = reg.predict(x_test)"
   ]
  },
  {
   "cell_type": "code",
   "execution_count": 50,
   "id": "0260b748",
   "metadata": {},
   "outputs": [
    {
     "data": {
      "image/png": "[encoded data removed]",
      "text/plain": [
       "<Figure size 1008x576 with 1 Axes>"
      ]
     },
     "metadata": {
      "needs_background": "light"
     },
     "output_type": "display_data"
    }
   ],
   "source": [
    "plt.figure(figsize=(14,8))\n",
    "plt.scatter(depDelay, arrDelay, label=\"Actual Data\")\n",
    "plt.plot(x_test, prediction, label=\"Linear Regression\", color='r')\n",
    "plt.title(\"Departure Delay vs Arrival Delay\")\n",
    "plt.xlabel(\"Departure Delay\")\n",
    "plt.ylabel(\"Arrival Delay\")\n",
    "plt.legend()\n",
    "plt.show()"
   ]
  },
  {
   "cell_type": "code",
   "execution_count": 68,
   "id": "1fdbfd87",
   "metadata": {},
   "outputs": [
    {
     "name": "stdout",
     "output_type": "stream",
     "text": [
      "y-intercept: [-20.12507187]\n",
      "Slope: [[0.22622958]]\n",
      "Mean Square Error: 0.030059163762991056\n",
      "Coefficient of Determination: 0.01203701221168374\n"
     ]
    }
   ],
   "source": [
    "print(f\"y-intercept: {reg.intercept_}\")\n",
    "print(f\"Slope: {reg.coef_}\")\n",
    "print(f\"Mean Square Error: {np.mean(prediction - y_test)**2}\")\n",
    "print(f\"Coefficient of Determination: {reg.score(x_test, y_test)}\")"
   ]
  },
  {
   "cell_type": "code",
   "execution_count": null,
   "id": "38affa50",
   "metadata": {},
   "outputs": [],
   "source": []
  }
 ],
 "metadata": {
  "interpreter": {
   "hash": "31f2aee4e71d21fbe5cf8b01ff0e069b9275f58929596ceb00d14d90e3e16cd6"
  },
  "kernelspec": {
   "display_name": "Python 3 (ipykernel)",
   "language": "python",
   "name": "python3"
  },
  "language_info": {
   "codemirror_mode": {
    "name": "ipython",
    "version": 3
   },
   "file_extension": ".py",
   "mimetype": "text/x-python",
   "name": "python",
   "nbconvert_exporter": "python",
   "pygments_lexer": "ipython3",
   "version": "3.9.7"
  }
 },
 "nbformat": 4,
 "nbformat_minor": 5
}
